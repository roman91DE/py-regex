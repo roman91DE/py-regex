{
 "cells": [
  {
   "cell_type": "code",
   "execution_count": 32,
   "id": "205e4aa9",
   "metadata": {},
   "outputs": [],
   "source": [
    "import re"
   ]
  },
  {
   "cell_type": "code",
   "execution_count": null,
   "id": "3e6859d8",
   "metadata": {},
   "outputs": [],
   "source": [
    "\"\"\"\n",
    "IPv4 was the first publicly used Internet Protocol which used 4 byte addresses which \n",
    "permitted for 232 addresses. \n",
    "The typical format of an IPv4 address is A.B.C.D where A, B, C and D are Integers \n",
    "lying between 0 and 255 (both inclusive).\n",
    "\"\"\"\n",
    "\n",
    "\n",
    "def is_ip4(s: str) -> bool:\n",
    "    part = r\"(25[0-5]|2[0-4][0-9]|1[0-9]{2}|[1-9]?[0-9])\"\n",
    "    pattern = rf\"^{part}\\.{part}\\.{part}\\.{part}$\"\n",
    "    return re.search(pattern, s) is not None"
   ]
  },
  {
   "cell_type": "code",
   "execution_count": 34,
   "id": "90d03e43",
   "metadata": {},
   "outputs": [],
   "source": [
    "def test_is_ip4() -> None:\n",
    "    assert is_ip4(\"0.0.0.255\")\n",
    "    assert is_ip4(\"192.168.1.1\")\n",
    "    assert is_ip4(\"255.255.255.255\")\n",
    "    assert not is_ip4(\"256.0.0.1\")\n",
    "    assert not is_ip4(\"192.168.1.256\")\n",
    "    assert not is_ip4(\"192.168.1\")\n",
    "    assert not is_ip4(\"192.168.1.1.1\")\n",
    "\n",
    "\n",
    "test_is_ip4()"
   ]
  },
  {
   "cell_type": "code",
   "execution_count": 56,
   "id": "43ee9f69",
   "metadata": {},
   "outputs": [],
   "source": [
    "\"\"\"\n",
    "IPv6, with 128 bits was developed to permit the expansion of the address space. \n",
    "To quote from the linked article: The 128 bits of an IPv6 address are represented in 8 groups of 16 bits each.\n",
    "Each group is written as 4 hexadecimal digits and the groups are separated by colons (:). \n",
    "The address 2001:0db8:0000:0000:0000:ff00:0042:8329 is an example of this representation. \n",
    "Consecutive sections of zeros will be left as they are.\n",
    "An IPv6 value such as \"...:0:...\" or \"...:5:...\" is address-wise identical \n",
    "to \"...:0000:...\" or \"...:0005:....\". Leading zeros may be omitted in writing the address.\n",
    "\"\"\"\n",
    "\n",
    "\n",
    "def is_ip6(s: str) -> bool:\n",
    "    hex_number = r\"[0-9a-fA-F]{1,4}\"\n",
    "    pattern = rf\"^({hex_number}:){{7}}{hex_number}$\"\n",
    "    return re.match(pattern, s) is not None"
   ]
  },
  {
   "cell_type": "code",
   "execution_count": 57,
   "id": "f96221f1",
   "metadata": {},
   "outputs": [],
   "source": [
    "def test_is_ip6() -> None:\n",
    "    assert is_ip6(\"2001:0db8:0000:0000:0000:ff00:0042:8329\")\n",
    "    assert is_ip6(\"fe80:0000:0000:0000:0202:b3ff:fe1e:8329\")\n",
    "    assert is_ip6(\"abcd:ef01:2345:6789:abcd:ef01:2345:6789\")\n",
    "    assert is_ip6(\"0:0:0:0:0:0:0:1\")\n",
    "    assert not is_ip6(\"2001:db8:0:0:0:ff00:42:8329:1234\")  # too many groups\n",
    "    assert not is_ip6(\"2001:db8:0:0:0:ff00:42\")  # too few groups\n",
    "    assert not is_ip6(\"2001:db8:0:0:0:ff00:42:832g\")  # invalid hex digit\n",
    "\n",
    "\n",
    "test_is_ip6()"
   ]
  }
 ],
 "metadata": {
  "kernelspec": {
   "display_name": ".venv",
   "language": "python",
   "name": "python3"
  },
  "language_info": {
   "codemirror_mode": {
    "name": "ipython",
    "version": 3
   },
   "file_extension": ".py",
   "mimetype": "text/x-python",
   "name": "python",
   "nbconvert_exporter": "python",
   "pygments_lexer": "ipython3",
   "version": "3.13.3"
  }
 },
 "nbformat": 4,
 "nbformat_minor": 5
}
