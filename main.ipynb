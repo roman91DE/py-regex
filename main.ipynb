{
 "cells": [
  {
   "cell_type": "code",
   "execution_count": 102,
   "id": "c3bc32bb",
   "metadata": {},
   "outputs": [],
   "source": [
    "import re"
   ]
  },
  {
   "cell_type": "code",
   "execution_count": 103,
   "id": "84d67a0b",
   "metadata": {},
   "outputs": [],
   "source": [
    "# %time\n",
    "# !grep -i \"^roman\" words.txt | wc -l"
   ]
  },
  {
   "cell_type": "code",
   "execution_count": 104,
   "id": "e6637ea4",
   "metadata": {},
   "outputs": [],
   "source": [
    "# data: str\n",
    "# with open(\"words.txt\", \"r\") as f:\n",
    "#     data = f.read()"
   ]
  },
  {
   "cell_type": "code",
   "execution_count": 105,
   "id": "54f413f8",
   "metadata": {},
   "outputs": [],
   "source": [
    "# words = data.splitlines()"
   ]
  },
  {
   "cell_type": "code",
   "execution_count": 106,
   "id": "568696c8",
   "metadata": {},
   "outputs": [],
   "source": [
    "# pat = r\"^roman\"\n",
    "# reg = re.compile(pat, re.IGNORECASE | re.MULTILINE)\n",
    "# reg"
   ]
  },
  {
   "cell_type": "code",
   "execution_count": 107,
   "id": "60806c7c",
   "metadata": {},
   "outputs": [],
   "source": [
    "url = re.compile(r\"(www\\.)?[a-zA-Z][a-zA-Z0-9]*\\.(de|com|fr|nl)\")"
   ]
  },
  {
   "cell_type": "code",
   "execution_count": 108,
   "id": "4ca439fa",
   "metadata": {},
   "outputs": [
    {
     "data": {
      "text/plain": [
       "<re.Match object; span=(0, 18), match='www.helloWorld.com'>"
      ]
     },
     "execution_count": 108,
     "metadata": {},
     "output_type": "execute_result"
    }
   ],
   "source": [
    "url.search(\"www.helloWorld.com\")"
   ]
  },
  {
   "cell_type": "code",
   "execution_count": 109,
   "id": "eb2399a1",
   "metadata": {},
   "outputs": [
    {
     "data": {
      "text/plain": [
       "<re.Match object; span=(0, 14), match='helloWorld.com'>"
      ]
     },
     "execution_count": 109,
     "metadata": {},
     "output_type": "execute_result"
    }
   ],
   "source": [
    "url.search(\"helloWorld.com\")"
   ]
  },
  {
   "cell_type": "code",
   "execution_count": 110,
   "id": "b9649056",
   "metadata": {},
   "outputs": [],
   "source": [
    "url.search(\"www.helloWorld.xyz\")"
   ]
  },
  {
   "cell_type": "code",
   "execution_count": 111,
   "id": "4301d758",
   "metadata": {},
   "outputs": [],
   "source": [
    "url.search(\"www..com\")"
   ]
  },
  {
   "cell_type": "code",
   "execution_count": 112,
   "id": "e3051bf4",
   "metadata": {},
   "outputs": [],
   "source": [
    "url.search(\"www.7.com\")"
   ]
  },
  {
   "cell_type": "code",
   "execution_count": null,
   "id": "5229d37f",
   "metadata": {},
   "outputs": [],
   "source": [
    "py_var = re.compile(r\"^[a-z_]+[a-z0-9_]*$\", re.IGNORECASE)"
   ]
  },
  {
   "cell_type": "code",
   "execution_count": 118,
   "id": "bd211567",
   "metadata": {},
   "outputs": [
    {
     "name": "stdout",
     "output_type": "stream",
     "text": [
      "a True\n",
      "Z12 True\n",
      "2sa False\n",
      "xyz123 True\n"
     ]
    }
   ],
   "source": [
    "for v in [\"a\", \"Z12\", \"2sa\", \"xyz123\"]:\n",
    "    print(v, py_var.search(v) is not None)"
   ]
  },
  {
   "cell_type": "code",
   "execution_count": null,
   "id": "861551ef",
   "metadata": {},
   "outputs": [],
   "source": []
  },
  {
   "cell_type": "code",
   "execution_count": null,
   "id": "d8a2ec78",
   "metadata": {},
   "outputs": [],
   "source": []
  }
 ],
 "metadata": {
  "kernelspec": {
   "display_name": ".venv",
   "language": "python",
   "name": "python3"
  },
  "language_info": {
   "codemirror_mode": {
    "name": "ipython",
    "version": 3
   },
   "file_extension": ".py",
   "mimetype": "text/x-python",
   "name": "python",
   "nbconvert_exporter": "python",
   "pygments_lexer": "ipython3",
   "version": "3.13.3"
  }
 },
 "nbformat": 4,
 "nbformat_minor": 5
}
