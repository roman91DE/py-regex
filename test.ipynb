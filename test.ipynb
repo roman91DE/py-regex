{
 "cells": [
  {
   "cell_type": "code",
   "execution_count": 1,
   "id": "de75eb64",
   "metadata": {},
   "outputs": [],
   "source": [
    "import re"
   ]
  },
  {
   "cell_type": "code",
   "execution_count": 9,
   "id": "b4d4fb81",
   "metadata": {},
   "outputs": [
    {
     "name": "stdout",
     "output_type": "stream",
     "text": [
      "['https://www.coursera.com', 'https://www.python.org']\n",
      "['https://www.google.com']\n",
      "[]\n",
      "[]\n"
     ]
    }
   ],
   "source": [
    "\"\"\"\n",
    "Complete the function find_url() to extract all encrypted websites that \n",
    "begin with https:// and end with any top level domain, such as .org, .com, or .co from the text.\n",
    "\"\"\"\n",
    "\n",
    "def find_url(website):\n",
    " pattern = r\"https://www\\.\\w*\\.\\w+\\b\"#enter the regex pattern here\n",
    " result = re.findall(pattern, website) #enter the re method here\n",
    " return result\n",
    "\n",
    "\n",
    "print(find_url(\"Go to the website https://www.coursera.com find more information about Google Certificate Programs. Then, visit https://www.python.org/ to learn more about Python. \")) # Should return ['https://www.coursera.com', 'https://www.python.org']\n",
    "print(find_url(\"You can find anything on https://www.google.com!\")) # Should return ['https://www.google.com']\n",
    "print(find_url(\"You can find anything on http://www.google.com!\")) # Should return []\n",
    "print(find_url(\"Check out python.org!\")) # Should return []"
   ]
  },
  {
   "cell_type": "code",
   "execution_count": 31,
   "id": "6fe08847",
   "metadata": {},
   "outputs": [
    {
     "name": "stdout",
     "output_type": "stream",
     "text": [
      "MN\n",
      "New Mexico\n",
      "Oregon\n"
     ]
    }
   ],
   "source": [
    "\"\"\"\n",
    "Question 4\n",
    "You are working with a dataset on customer orders. \n",
    "This dataset includes a field that contains information on both city and state. \n",
    "You would like to separate this field into two fields, a city field and a state field. \n",
    "In the current field, city and state are separated by either a comma, or a period. \n",
    "Complete the function parse_city_state() to split city and state into two strings and return only the state.\n",
    "\"\"\"\n",
    "\n",
    "def parse_city_state(text):\n",
    " pattern = r\"(.+)[,.]\\s(.+)\" #enter the regex pattern here\n",
    " result = re.search(pattern, text) #enter the re method  here\n",
    " if not result:\n",
    "  return \"\"\n",
    " return result.groups()[1]\n",
    "  \n",
    "\n",
    "\n",
    "print(parse_city_state(\"Hamilton, MN\")) # should return MN\n",
    "print(parse_city_state(\"Albuquerque, New Mexico\")) # should return New Mexico\n",
    "print(parse_city_state(\"Portland. Oregon\")) # should return Oregon"
   ]
  },
  {
   "cell_type": "code",
   "execution_count": 41,
   "id": "10376b8c",
   "metadata": {},
   "outputs": [
    {
     "name": "stdout",
     "output_type": "stream",
     "text": [
      "098754\n",
      "\n",
      "\n"
     ]
    }
   ],
   "source": [
    "\"\"\"\n",
    "International Standard Book Numbers (ISBNs) are used to uniquely identify published books. \n",
    "They follow a 13-digit format: \n",
    "\n",
    "XXX-X-XX-XXXXXX-X\n",
    "\n",
    "where each X represents one numeric digit. \n",
    "You have a list of books, information about those books, and their ISBN numbers. \n",
    "You want to extract the 6 digits of the ISBN that come before the last hyphen of each book’s ISBN number. \n",
    "However, you need to be careful to avoid 6-digit strings that are not part of the \n",
    "ISBN numbers you’re interested in. \n",
    "\n",
    "Complete the find_isbn() function so you can use it to extract the 6-digit portion \n",
    "of the ISBN numbers of the books on your list. \n",
    "\"\"\"\n",
    "\n",
    "\n",
    "def find_isbn(list):\n",
    "  pattern = r\"^\\d{3}-\\d-\\d{2}-(\\d{6})-\\d$\"\n",
    "  result = re.search(pattern, list) #enter the re method  here\n",
    "  if result is None:\n",
    "    return \"\"\n",
    "  return result.groups()[0] #return the correct capturing group\n",
    "\n",
    "\n",
    "print(find_isbn(\"123-4-12-098754-0\")) # Should return 098754\n",
    "print(find_isbn(\"223094-AB-30\")) # result should be blank\n",
    "print(find_isbn(\"1123-4-12-098754-0\")) # result should be blank"
   ]
  },
  {
   "cell_type": "code",
   "execution_count": null,
   "id": "5cdf4174",
   "metadata": {},
   "outputs": [],
   "source": []
  },
  {
   "cell_type": "code",
   "execution_count": null,
   "id": "e434ee35",
   "metadata": {},
   "outputs": [],
   "source": []
  },
  {
   "cell_type": "code",
   "execution_count": null,
   "id": "d7385b1c",
   "metadata": {},
   "outputs": [],
   "source": []
  }
 ],
 "metadata": {
  "kernelspec": {
   "display_name": ".venv",
   "language": "python",
   "name": "python3"
  },
  "language_info": {
   "codemirror_mode": {
    "name": "ipython",
    "version": 3
   },
   "file_extension": ".py",
   "mimetype": "text/x-python",
   "name": "python",
   "nbconvert_exporter": "python",
   "pygments_lexer": "ipython3",
   "version": "3.13.3"
  }
 },
 "nbformat": 4,
 "nbformat_minor": 5
}
